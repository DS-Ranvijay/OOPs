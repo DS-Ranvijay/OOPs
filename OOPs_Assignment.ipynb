{
  "nbformat": 4,
  "nbformat_minor": 0,
  "metadata": {
    "colab": {
      "provenance": []
    },
    "kernelspec": {
      "name": "python3",
      "display_name": "Python 3"
    },
    "language_info": {
      "name": "python"
    }
  },
  "cells": [
    {
      "cell_type": "markdown",
      "source": [
        "#Python OOPs Questions\n",
        "\n"
      ],
      "metadata": {
        "id": "ds17NBHBnvEk"
      }
    },
    {
      "cell_type": "markdown",
      "source": [
        "1. What is Object-Oriented Programming (OOP)?\n",
        "\n",
        "-  OOP is a style of programming where we design software using objects.\n",
        "An object represents a real-world entity (like a car, student, bank account) which has attributes (data) and behaviors (methods).\n",
        "OOP focuses on four main principles:\n",
        "\n",
        "   - Encapsulation (hiding data inside a class)\n",
        "   - Abstraction (hiding unnecessary details)\n",
        "   - Inheritance (reusing code from parent classes)\n",
        "   - Polymorphism (using one interface in multiple ways).\n",
        "- Benefit: Makes programs modular, reusable, and easy to maintain."
      ],
      "metadata": {
        "id": "ZAYTqSHbn_JT"
      }
    },
    {
      "cell_type": "markdown",
      "source": [
        "2. What is a class in OOP?\n",
        "\n",
        "-  A class is like a blueprint or template used to create objects.\n",
        "-  It defines:\n",
        "\n",
        "   -  Attributes (variables) → what the object has\n",
        "\n",
        "   -  Methods (functions) → what the object can do"
      ],
      "metadata": {
        "id": "RSlwE762or7Q"
      }
    },
    {
      "cell_type": "code",
      "source": [
        "class Car:\n",
        "    def __init__(self, brand, model):\n",
        "        self.brand = brand\n",
        "        self.model = model\n",
        "\n",
        "    def drive(self):\n",
        "        print(f\"{self.brand} {self.model} is driving\")\n"
      ],
      "metadata": {
        "id": "6HpZmSEuo8Ux"
      },
      "execution_count": 1,
      "outputs": []
    },
    {
      "cell_type": "markdown",
      "source": [
        "3. What is an object in OOP?\n",
        "\n",
        "-  An object is an instance of a class.\n",
        "-  When we create an object, memory is allocated and the attributes defined in the class are set for that object."
      ],
      "metadata": {
        "id": "P97Cz5IBpIC-"
      }
    },
    {
      "cell_type": "code",
      "execution_count": 2,
      "metadata": {
        "colab": {
          "base_uri": "https://localhost:8080/"
        },
        "id": "Pe14IaEDm5du",
        "outputId": "94756c1c-c615-4db3-b389-7e4cd79ed9d7"
      },
      "outputs": [
        {
          "output_type": "stream",
          "name": "stdout",
          "text": [
            "Tesla Model S is driving\n"
          ]
        }
      ],
      "source": [
        "car1 = Car(\"Tesla\", \"Model S\")   # object created from Car class\n",
        "car1.drive()\n"
      ]
    },
    {
      "cell_type": "markdown",
      "source": [
        "4. Difference between abstraction and encapsulation\n",
        "\n",
        "-  Abstraction → Focuses on what an object does, not how. Example: When you use len(\"hello\"), you don’t care how Python calculates length internally.\n",
        "\n",
        "-  Encapsulation → Restricts direct access to data and binds it with methods. Example: Private variables (__salary) in a class.\n",
        "\n",
        "-  Abstraction = hiding implementation; Encapsulation = hiding data."
      ],
      "metadata": {
        "id": "VcYz9zDepaYD"
      }
    },
    {
      "cell_type": "markdown",
      "source": [
        "5. What are dunder methods in Python?\n",
        "\n",
        "- Dunder methods (double underscore methods) are special methods that start and end with __.\n",
        "They define object behavior.\n",
        "Examples:\n",
        "\n",
        "- __init__ → constructor\n",
        "- __str__ → string representation\n",
        "- __len__ → length\n",
        "- __add__ → operator overloading for +"
      ],
      "metadata": {
        "id": "7B0kFZlcpnOe"
      }
    },
    {
      "cell_type": "markdown",
      "source": [
        "6. Explain inheritance in OOP\n",
        "\n",
        "-  Inheritance allows a class (child) to reuse code from another class (parent).\n",
        "This avoids rewriting the same code.\n",
        "Types:\n",
        "\n",
        "-  Single inheritance\n",
        "-  Multiple inheritance\n",
        "-  Multilevel inheritance\n",
        "-  Hierarchical inheritance"
      ],
      "metadata": {
        "id": "awqGwiwUp4eX"
      }
    },
    {
      "cell_type": "code",
      "source": [
        "class Animal:\n",
        "    def speak(self):\n",
        "        print(\"This is an animal\")\n",
        "\n",
        "class Dog(Animal):   # Dog inherits from Animal\n",
        "    def speak(self):\n",
        "        print(\"Bark\")\n"
      ],
      "metadata": {
        "id": "e8bg3kPEqF7A"
      },
      "execution_count": 3,
      "outputs": []
    },
    {
      "cell_type": "markdown",
      "source": [
        "7. What is polymorphism in OOP?\n",
        "\n",
        "- Polymorphism means “many forms”.\n",
        "It allows the same function name or operator to work in different ways depending on the object.\n"
      ],
      "metadata": {
        "id": "YmEKk4MfqJ9Z"
      }
    },
    {
      "cell_type": "code",
      "source": [
        "print(len(\"Python\"))   # works on string\n",
        "print(len([1,2,3]))    # works on list\n"
      ],
      "metadata": {
        "colab": {
          "base_uri": "https://localhost:8080/"
        },
        "id": "xUV3seJnqQIx",
        "outputId": "61607c65-3226-456c-d738-c2dafc41f8aa"
      },
      "execution_count": 4,
      "outputs": [
        {
          "output_type": "stream",
          "name": "stdout",
          "text": [
            "6\n",
            "3\n"
          ]
        }
      ]
    },
    {
      "cell_type": "markdown",
      "source": [
        "8. How is encapsulation achieved in Python?\n",
        "\n",
        "- Encapsulation is achieved by restricting access to variables using:\n",
        "\n",
        "   - Public members → can be accessed anywhere (name)\n",
        "\n",
        "   - Protected members → should not be accessed directly (_name)\n",
        "\n",
        "   - Private members → cannot be accessed directly (__name)"
      ],
      "metadata": {
        "id": "gP7F6j6pqWau"
      }
    },
    {
      "cell_type": "markdown",
      "source": [
        "9. What is a constructor in Python?\n",
        "- A constructor is a special method __init__ that runs automatically when an object is created. It initializes object attributes."
      ],
      "metadata": {
        "id": "ux8pbQPqqeoa"
      }
    },
    {
      "cell_type": "code",
      "source": [
        "class Student:\n",
        "    def __init__(self, name, age):\n",
        "        self.name = name\n",
        "        self.age = age\n"
      ],
      "metadata": {
        "id": "dKmvCAxeqrrt"
      },
      "execution_count": 30,
      "outputs": []
    },
    {
      "cell_type": "markdown",
      "source": [
        "10. What are class and static methods in Python?\n",
        "- Class method (@classmethod) → works with class variables, takes cls as first argument.\n",
        "\n",
        "- Static method (@staticmethod) → doesn’t access class or instance, behaves like a normal function inside class."
      ],
      "metadata": {
        "id": "L99wFngfqvIh"
      }
    },
    {
      "cell_type": "markdown",
      "source": [
        "11. What is method overloading in Python?\n",
        "- Python does not support traditional overloading.\n",
        "But we can mimic it using default arguments or *args."
      ],
      "metadata": {
        "id": "awjSkZMPrBxK"
      }
    },
    {
      "cell_type": "code",
      "source": [
        "class Math:\n",
        "    def add(self, a, b=0):\n",
        "        return a + b\n"
      ],
      "metadata": {
        "id": "y7hjwJpBrCvZ"
      },
      "execution_count": 5,
      "outputs": []
    },
    {
      "cell_type": "markdown",
      "source": [
        "12. What is method overriding in OOP?\n",
        "\n",
        "- When a child class defines a method with the same name as a parent class method, the child’s method replaces the parent’s version."
      ],
      "metadata": {
        "id": "s52Ow2HCrLMw"
      }
    },
    {
      "cell_type": "markdown",
      "source": [
        "13. What is a property decorator in Python?\n",
        "\n",
        "- property allows you to use methods like attributes. It is used for getter and setter without changing syntax."
      ],
      "metadata": {
        "id": "wkCfhjijrQcK"
      }
    },
    {
      "cell_type": "code",
      "source": [
        "class Employee:\n",
        "    def __init__(self, salary):\n",
        "        self._salary = salary\n",
        "\n",
        "    @property\n",
        "    def salary(self):\n",
        "        return self._salary\n"
      ],
      "metadata": {
        "id": "-mhN7OrDrbM6"
      },
      "execution_count": 6,
      "outputs": []
    },
    {
      "cell_type": "markdown",
      "source": [
        "14. Why is polymorphism important in OOP?\n",
        "- Because it allows code to be flexible and extensible.\n",
        "You can write functions that work with objects of different classes without rewriting them."
      ],
      "metadata": {
        "id": "QgRd4Vhyrhq8"
      }
    },
    {
      "cell_type": "markdown",
      "source": [
        "15. What is an abstract class in Python?\n",
        "\n",
        "- An abstract class contains abstract methods (defined but not implemented).\n",
        "Child classes must implement them.\n",
        "Defined using abc module."
      ],
      "metadata": {
        "id": "5Bd3tfIHroms"
      }
    },
    {
      "cell_type": "markdown",
      "source": [
        "16. What are the advantages of OOP?\n",
        "\n",
        "- Reusability (via inheritance)\n",
        "\n",
        "- Modularity (classes are self-contained)\n",
        "\n",
        "- Security (encapsulation hides data)\n",
        "\n",
        "- Flexibility (polymorphism)\n",
        "\n",
        "- Easy maintenance"
      ],
      "metadata": {
        "id": "GyJR7SZmrrSi"
      }
    },
    {
      "cell_type": "markdown",
      "source": [
        "17. Difference between class variable and instance variable\n",
        "\n",
        "- Class variable → shared by all objects, defined outside methods.\n",
        "\n",
        "- Instance variable → unique to each object, defined inside __init__."
      ],
      "metadata": {
        "id": "WTKDBxblr29W"
      }
    },
    {
      "cell_type": "markdown",
      "source": [
        "18. What is multiple inheritance in Python?\n",
        "\n",
        "- When a class inherits from more than one parent."
      ],
      "metadata": {
        "id": "jyYWrHujr9nG"
      }
    },
    {
      "cell_type": "code",
      "source": [
        "class A: pass\n",
        "class B: pass\n",
        "class C(A, B): pass\n"
      ],
      "metadata": {
        "id": "Q3jJJ6qCsB1K"
      },
      "execution_count": 7,
      "outputs": []
    },
    {
      "cell_type": "markdown",
      "source": [
        "19. Purpose of __str__ and __repr__\n",
        "\n",
        "- __str__ → user-friendly string for printing.\n",
        "\n",
        "- __repr__ → developer-focused string for debugging."
      ],
      "metadata": {
        "id": "cJ0_Hzr9sMuP"
      }
    },
    {
      "cell_type": "markdown",
      "source": [
        "20. Significance of super()\n",
        "\n",
        "- super() allows you to call a parent’s method (commonly constructor) inside a child class."
      ],
      "metadata": {
        "id": "EHQd_pBcsT1s"
      }
    },
    {
      "cell_type": "markdown",
      "source": [
        "21. Significance of __del__\n",
        "\n",
        "- __del__ is the destructor, called when an object is destroyed (memory cleanup)."
      ],
      "metadata": {
        "id": "Xi5_bfrksZyp"
      }
    },
    {
      "cell_type": "markdown",
      "source": [
        "22. Difference between @staticmethod and @classmethod\n",
        "\n",
        "- @staticmethod → no access to class or instance.\n",
        "\n",
        "- @classmethod → access to class variables using cls."
      ],
      "metadata": {
        "id": "kD5KAhORsg16"
      }
    },
    {
      "cell_type": "markdown",
      "source": [
        "23. How does polymorphism work in Python with inheritance?\n",
        "\n",
        "- When a child overrides a parent’s method, Python calls the child’s version.\n",
        "This is runtime polymorphism."
      ],
      "metadata": {
        "id": "o7ehqsOWss0z"
      }
    },
    {
      "cell_type": "markdown",
      "source": [],
      "metadata": {
        "id": "rMPCEETDsxWG"
      }
    },
    {
      "cell_type": "markdown",
      "source": [
        "24. What is method chaining in Python OOP?\n",
        "- Method chaining is a technique where multiple methods are called on the same object in a single line, one after another. Each method returns the object itself (usually self), allowing the next method to be called immediately."
      ],
      "metadata": {
        "id": "34Gx4Crfsx2I"
      }
    },
    {
      "cell_type": "markdown",
      "source": [
        "25. What is the purpose of the __call__ method in Python?\n",
        "- In Python, the __call__ method makes an object behave like a function.\n",
        "- If a class defines __call__, then its instances can be called using parentheses (), just like functions."
      ],
      "metadata": {
        "id": "Z27G2gv7tCGs"
      }
    },
    {
      "cell_type": "markdown",
      "source": [
        "#Practical Questions"
      ],
      "metadata": {
        "id": "HnWhLGyNtN2f"
      }
    },
    {
      "cell_type": "markdown",
      "source": [
        "1. Create a parent class Animal with a method speak() that prints a generic message. Create a child class Dog\n",
        "that overrides the speak() method to print \"Bark!\"."
      ],
      "metadata": {
        "id": "9m3JiBPntRHU"
      }
    },
    {
      "cell_type": "code",
      "source": [
        "class Animal:\n",
        "    def speak(self):\n",
        "        print(\"This is an animal sound\")\n",
        "\n",
        "class Dog(Animal):\n",
        "    def speak(self):\n",
        "        print(\"Bark!\")\n",
        "\n",
        "# Test\n",
        "a = Animal()\n",
        "a.speak()\n",
        "d = Dog()\n",
        "d.speak()\n"
      ],
      "metadata": {
        "colab": {
          "base_uri": "https://localhost:8080/"
        },
        "id": "ZeC01rJmtmI5",
        "outputId": "e43215c5-b2a0-4d24-e5db-3e57bff7fdf6"
      },
      "execution_count": 29,
      "outputs": [
        {
          "output_type": "stream",
          "name": "stdout",
          "text": [
            "This is an animal sound\n",
            "Bark!\n"
          ]
        }
      ]
    },
    {
      "cell_type": "markdown",
      "source": [
        "2. Write a program to create an abstract class Shape with a method area(). Derive classes Circle and Rectangle\n",
        "from it and implement the area() method in both."
      ],
      "metadata": {
        "id": "eAQqFVh-tpyq"
      }
    },
    {
      "cell_type": "code",
      "source": [
        "from abc import ABC, abstractmethod\n",
        "import math\n",
        "\n",
        "class Shape(ABC):\n",
        "    @abstractmethod\n",
        "    def area(self):\n",
        "        pass\n",
        "\n",
        "class Circle(Shape):\n",
        "    def __init__(self, radius):\n",
        "        self.radius = radius\n",
        "\n",
        "    def area(self):\n",
        "        return math.pi * self.radius * self.radius\n",
        "\n",
        "class Rectangle(Shape):\n",
        "    def __init__(self, length, width):\n",
        "        self.length = length\n",
        "        self.width = width\n",
        "\n",
        "    def area(self):\n",
        "        return self.length * self.width\n",
        "\n",
        "# Test\n",
        "c = Circle(5)\n",
        "print(\"Circle area:\", c.area())\n",
        "r = Rectangle(4, 6)\n",
        "print(\"Rectangle area:\", r.area())\n"
      ],
      "metadata": {
        "colab": {
          "base_uri": "https://localhost:8080/"
        },
        "id": "b6kA1xb3tve7",
        "outputId": "925d3335-700b-4662-9fde-0478f4234daa"
      },
      "execution_count": 28,
      "outputs": [
        {
          "output_type": "stream",
          "name": "stdout",
          "text": [
            "Circle area: 78.53981633974483\n",
            "Rectangle area: 24\n"
          ]
        }
      ]
    },
    {
      "cell_type": "markdown",
      "source": [
        "3. Implement a multi-level inheritance scenario where a class Vehicle has an attribute type. Derive a class Car\n",
        "and further derive a class ElectricCar that adds a battery attribute."
      ],
      "metadata": {
        "id": "RLbTfoystwon"
      }
    },
    {
      "cell_type": "code",
      "source": [
        "class Vehicle:\n",
        "    def __init__(self, v_type):\n",
        "        self.type = v_type\n",
        "\n",
        "class Car(Vehicle):\n",
        "    def __init__(self, v_type, brand):\n",
        "        super().__init__(v_type)\n",
        "        self.brand = brand\n",
        "\n",
        "class ElectricCar(Car):\n",
        "    def __init__(self, v_type, brand, battery):\n",
        "        super().__init__(v_type, brand)\n",
        "        self.battery = battery\n",
        "\n",
        "# Test\n",
        "e = ElectricCar(\"Car\", \"Tesla\", \"100kWh\")\n",
        "print(e.type, e.brand, e.battery)\n"
      ],
      "metadata": {
        "colab": {
          "base_uri": "https://localhost:8080/"
        },
        "id": "_U3AFuRxt2VN",
        "outputId": "bb8b7627-5c79-43a2-8aac-f7c0c93d00bb"
      },
      "execution_count": 27,
      "outputs": [
        {
          "output_type": "stream",
          "name": "stdout",
          "text": [
            "Car Tesla 100kWh\n"
          ]
        }
      ]
    },
    {
      "cell_type": "markdown",
      "source": [
        "4. Demonstrate polymorphism by creating a base class Bird with a method fly(). Create two derived classes\n",
        "Sparrow and Penguin that override the fly() method.\n"
      ],
      "metadata": {
        "id": "CwqnrO4Pt6Rh"
      }
    },
    {
      "cell_type": "code",
      "source": [
        "class Bird:\n",
        "    def fly(self):\n",
        "        print(\"This bird can fly\")\n",
        "\n",
        "class Sparrow(Bird):\n",
        "    def fly(self):\n",
        "        print(\"Sparrow flies high\")\n",
        "\n",
        "class Penguin(Bird):\n",
        "    def fly(self):\n",
        "        print(\"Penguin cannot fly\")\n",
        "\n",
        "# Test\n",
        "birds = [Sparrow(), Penguin()]\n",
        "for b in birds:\n",
        "    b.fly()\n"
      ],
      "metadata": {
        "colab": {
          "base_uri": "https://localhost:8080/"
        },
        "id": "8Wx3OzmJuA1z",
        "outputId": "fb00403e-eba0-4ef5-997b-6c955fdd5450"
      },
      "execution_count": 26,
      "outputs": [
        {
          "output_type": "stream",
          "name": "stdout",
          "text": [
            "Sparrow flies high\n",
            "Penguin cannot fly\n"
          ]
        }
      ]
    },
    {
      "cell_type": "markdown",
      "source": [
        "5. Write a program to demonstrate encapsulation by creating a class BankAccount with private attributes balance and methods to deposit, withdraw, and check balance."
      ],
      "metadata": {
        "id": "8qn4Tn8LuEZZ"
      }
    },
    {
      "cell_type": "code",
      "source": [
        "class BankAccount:\n",
        "    def __init__(self, balance):\n",
        "        self.__balance = balance   # private attribute\n",
        "\n",
        "    def deposit(self, amount):\n",
        "        self.__balance += amount\n",
        "\n",
        "    def withdraw(self, amount):\n",
        "        if amount <= self.__balance:\n",
        "            self.__balance -= amount\n",
        "        else:\n",
        "            print(\"Insufficient balance\")\n",
        "\n",
        "    def get_balance(self):\n",
        "        return self.__balance\n",
        "\n",
        "# Test\n",
        "acc = BankAccount(1000)\n",
        "acc.deposit(500)\n",
        "acc.withdraw(300)\n",
        "print(\"Balance:\", acc.get_balance())\n"
      ],
      "metadata": {
        "colab": {
          "base_uri": "https://localhost:8080/"
        },
        "id": "hF5TUSpFuJcT",
        "outputId": "5123e104-6d6d-4b18-8b9e-bde2b65ba056"
      },
      "execution_count": 25,
      "outputs": [
        {
          "output_type": "stream",
          "name": "stdout",
          "text": [
            "Balance: 1200\n"
          ]
        }
      ]
    },
    {
      "cell_type": "markdown",
      "source": [
        "6. Demonstrate runtime polymorphism using a method play() in a base class Instrument. Derive classes Guitar\n",
        "and Piano that implement their own version of play()."
      ],
      "metadata": {
        "id": "h_zdZho_uNuf"
      }
    },
    {
      "cell_type": "code",
      "source": [
        "class Instrument:\n",
        "    def play(self):\n",
        "        print(\"Instrument playing\")\n",
        "\n",
        "class Guitar(Instrument):\n",
        "    def play(self):\n",
        "        print(\"Guitar strumming\")\n",
        "\n",
        "class Piano(Instrument):\n",
        "    def play(self):\n",
        "        print(\"Piano playing\")\n",
        "\n",
        "# Test\n",
        "instruments = [Guitar(), Piano()]\n",
        "for i in instruments:\n",
        "    i.play()\n"
      ],
      "metadata": {
        "colab": {
          "base_uri": "https://localhost:8080/"
        },
        "id": "IMAwmYBDuRkS",
        "outputId": "0acbb0ff-79a7-4e42-ef04-1e42a9a66de8"
      },
      "execution_count": 24,
      "outputs": [
        {
          "output_type": "stream",
          "name": "stdout",
          "text": [
            "Guitar strumming\n",
            "Piano playing\n"
          ]
        }
      ]
    },
    {
      "cell_type": "markdown",
      "source": [
        "7. Create a class MathOperations with a class method add_numbers() to add two numbers and a static method subtract_numbers() to subtract two numbers."
      ],
      "metadata": {
        "id": "DN86iSRmuUlX"
      }
    },
    {
      "cell_type": "code",
      "source": [
        "class MathOperations:\n",
        "    @classmethod\n",
        "    def add_numbers(cls, a, b):\n",
        "        return a + b\n",
        "\n",
        "    @staticmethod\n",
        "    def subtract_numbers(a, b):\n",
        "        return a - b\n",
        "\n",
        "# Test\n",
        "print(MathOperations.add_numbers(5, 3))\n",
        "print(MathOperations.subtract_numbers(10, 4))\n"
      ],
      "metadata": {
        "colab": {
          "base_uri": "https://localhost:8080/"
        },
        "id": "88_PDWvAu_Ro",
        "outputId": "f4521159-cb3f-4cad-eb39-366e458ffb58"
      },
      "execution_count": 23,
      "outputs": [
        {
          "output_type": "stream",
          "name": "stdout",
          "text": [
            "8\n",
            "6\n"
          ]
        }
      ]
    },
    {
      "cell_type": "markdown",
      "source": [
        "8. Implement a class Person with a class method to count the total number of persons created.\n"
      ],
      "metadata": {
        "id": "mCQ31G34uetI"
      }
    },
    {
      "cell_type": "code",
      "source": [
        "class Person:\n",
        "    count = 0\n",
        "\n",
        "    def __init__(self, name):\n",
        "        self.name = name\n",
        "        Person.count += 1\n",
        "\n",
        "    @classmethod\n",
        "    def total_persons(cls):\n",
        "        return cls.count\n",
        "\n",
        "# Test\n",
        "p1 = Person(\"Alice\")\n",
        "p2 = Person(\"Bob\")\n",
        "print(\"Total persons:\", Person.total_persons())\n"
      ],
      "metadata": {
        "colab": {
          "base_uri": "https://localhost:8080/"
        },
        "id": "3pnLB-BIvANx",
        "outputId": "353e5b8b-4041-415b-d082-16099708c2e4"
      },
      "execution_count": 22,
      "outputs": [
        {
          "output_type": "stream",
          "name": "stdout",
          "text": [
            "Total persons: 2\n"
          ]
        }
      ]
    },
    {
      "cell_type": "markdown",
      "source": [
        "\n",
        "9. Write a class Fraction with attributes numerator and denominator. Override the str method to display the fraction as \"numerator/denominator\".\n"
      ],
      "metadata": {
        "id": "LsWe9Ueiui1M"
      }
    },
    {
      "cell_type": "code",
      "source": [
        "class Fraction:\n",
        "    def __init__(self, numerator, denominator):\n",
        "        self.numerator = numerator\n",
        "        self.denominator = denominator\n",
        "\n",
        "    def __str__(self):\n",
        "        return f\"{self.numerator}/{self.denominator}\"\n",
        "\n",
        "# Test\n",
        "f = Fraction(3, 4)\n",
        "print(f)\n"
      ],
      "metadata": {
        "colab": {
          "base_uri": "https://localhost:8080/"
        },
        "id": "vBc7iCXbvE7E",
        "outputId": "5f3d515e-7676-4ea4-f60c-b126cc02fc25"
      },
      "execution_count": 21,
      "outputs": [
        {
          "output_type": "stream",
          "name": "stdout",
          "text": [
            "3/4\n"
          ]
        }
      ]
    },
    {
      "cell_type": "markdown",
      "source": [
        "\n",
        "\n",
        "10. Demonstrate operator overloading by creating a class Vector and overriding the add method to add two vectors.\n"
      ],
      "metadata": {
        "id": "KV_yyEv8umB3"
      }
    },
    {
      "cell_type": "code",
      "source": [
        "class Vector:\n",
        "    def __init__(self, x, y):\n",
        "        self.x = x\n",
        "        self.y = y\n",
        "\n",
        "    def __add__(self, other):\n",
        "        return Vector(self.x + other.x, self.y + other.y)\n",
        "\n",
        "    def __str__(self):\n",
        "        return f\"({self.x}, {self.y})\"\n",
        "\n",
        "# Test\n",
        "v1 = Vector(2, 3)\n",
        "v2 = Vector(4, 5)\n",
        "v3 = v1 + v2\n",
        "print(v3)\n"
      ],
      "metadata": {
        "colab": {
          "base_uri": "https://localhost:8080/"
        },
        "id": "37hnW2ulvHsE",
        "outputId": "cb1e4f47-022d-4f2b-d16d-8de51bff6d47"
      },
      "execution_count": 20,
      "outputs": [
        {
          "output_type": "stream",
          "name": "stdout",
          "text": [
            "(6, 8)\n"
          ]
        }
      ]
    },
    {
      "cell_type": "markdown",
      "source": [
        "\n",
        "\n",
        "11. Create a class Person with attributes name and age. Add a method greet() that prints \"Hello, my name is {name} and I am {age} years old.\"\n"
      ],
      "metadata": {
        "id": "lG_cPnVluo0w"
      }
    },
    {
      "cell_type": "code",
      "source": [
        "class Person:\n",
        "    def __init__(self, name, age):\n",
        "        self.name = name\n",
        "        self.age = age\n",
        "\n",
        "    def greet(self):\n",
        "        print(f\"Hello, my name is {self.name} and I am {self.age} years old.\")\n",
        "\n",
        "# Test\n",
        "p = Person(\"Alice\", 25)\n",
        "p.greet()\n"
      ],
      "metadata": {
        "colab": {
          "base_uri": "https://localhost:8080/"
        },
        "id": "fhHMNCrLvNxt",
        "outputId": "a2d4a0d7-03df-45bf-e1b9-74018540b702"
      },
      "execution_count": 19,
      "outputs": [
        {
          "output_type": "stream",
          "name": "stdout",
          "text": [
            "Hello, my name is Alice and I am 25 years old.\n"
          ]
        }
      ]
    },
    {
      "cell_type": "markdown",
      "source": [
        "\n",
        "12. Implement a class Student with attributes name and grades. Create a method average_grade() to compute the average of the grades."
      ],
      "metadata": {
        "id": "jF7Pe_8muylM"
      }
    },
    {
      "cell_type": "code",
      "source": [
        "class Student:\n",
        "    def __init__(self, name, grades):\n",
        "        self.name = name\n",
        "        self.grades = grades\n",
        "\n",
        "    def average_grade(self):\n",
        "        return sum(self.grades) / len(self.grades)\n",
        "\n",
        "# Test\n",
        "s = Student(\"Bob\", [80, 90, 70])\n",
        "print(\"Average grade:\", s.average_grade())\n"
      ],
      "metadata": {
        "colab": {
          "base_uri": "https://localhost:8080/"
        },
        "id": "rF38kiWKvgd_",
        "outputId": "52724faa-fe69-44f0-a8fd-ef762468be91"
      },
      "execution_count": 18,
      "outputs": [
        {
          "output_type": "stream",
          "name": "stdout",
          "text": [
            "Average grade: 80.0\n"
          ]
        }
      ]
    },
    {
      "cell_type": "markdown",
      "source": [
        "\n",
        "13. Create a class Rectangle with methods set_dimensions() to set the dimensions and area() to calculate the area.\n"
      ],
      "metadata": {
        "id": "HggazcvOu3DW"
      }
    },
    {
      "cell_type": "code",
      "source": [
        "class Rectangle:\n",
        "    def set_dimensions(self, length, width):\n",
        "        self.length = length\n",
        "        self.width = width\n",
        "\n",
        "    def area(self):\n",
        "        return self.length * self.width\n",
        "\n",
        "# Test\n",
        "r = Rectangle()\n",
        "r.set_dimensions(5, 10)\n",
        "print(\"Area:\", r.area())\n"
      ],
      "metadata": {
        "colab": {
          "base_uri": "https://localhost:8080/"
        },
        "id": "OGILqGm9vlFR",
        "outputId": "12c18180-8fd3-42dc-bef3-913f71a008a9"
      },
      "execution_count": 17,
      "outputs": [
        {
          "output_type": "stream",
          "name": "stdout",
          "text": [
            "Area: 50\n"
          ]
        }
      ]
    },
    {
      "cell_type": "markdown",
      "source": [
        "14. Create a class Employee with a method calculate_salary() that computes the salary based on hours worked and hourly rate. Create a derived class Manager that adds a bonus to the salary."
      ],
      "metadata": {
        "id": "pkCA1HBnu6WC"
      }
    },
    {
      "cell_type": "code",
      "source": [
        "class Employee:\n",
        "    def __init__(self, hours, rate):\n",
        "        self.hours = hours\n",
        "        self.rate = rate\n",
        "\n",
        "    def calculate_salary(self):\n",
        "        return self.hours * self.rate\n",
        "\n",
        "class Manager(Employee):\n",
        "    def __init__(self, hours, rate, bonus):\n",
        "        super().__init__(hours, rate)\n",
        "        self.bonus = bonus\n",
        "\n",
        "    def calculate_salary(self):\n",
        "        return super().calculate_salary() + self.bonus\n",
        "\n",
        "# Test\n",
        "e = Employee(40, 20)\n",
        "print(\"Employee Salary:\", e.calculate_salary())\n",
        "\n",
        "m = Manager(40, 30, 500)\n",
        "print(\"Manager Salary:\", m.calculate_salary())\n"
      ],
      "metadata": {
        "colab": {
          "base_uri": "https://localhost:8080/"
        },
        "id": "-Se56shBvuHo",
        "outputId": "dffcf7a3-25ff-423b-cdc7-61a5d2649d65"
      },
      "execution_count": 16,
      "outputs": [
        {
          "output_type": "stream",
          "name": "stdout",
          "text": [
            "Employee Salary: 800\n",
            "Manager Salary: 1700\n"
          ]
        }
      ]
    },
    {
      "cell_type": "markdown",
      "source": [
        "15. Create a class Product with attributes name, price, and quantity. Implement a method total_price() that calculates the total price of the product.\n"
      ],
      "metadata": {
        "id": "5wPDinm7u6dI"
      }
    },
    {
      "cell_type": "code",
      "source": [
        "class Product:\n",
        "    def __init__(self, name, price, quantity):\n",
        "        self.name = name\n",
        "        self.price = price\n",
        "        self.quantity = quantity\n",
        "\n",
        "    def total_price(self):\n",
        "        return self.price * self.quantity\n",
        "\n",
        "# Test\n",
        "p = Product(\"Laptop\", 50000, 2)\n",
        "print(\"Total Price:\", p.total_price())\n"
      ],
      "metadata": {
        "colab": {
          "base_uri": "https://localhost:8080/"
        },
        "id": "yrG85-klwZsf",
        "outputId": "0b6d0168-52de-4c26-d81f-7067456a79ee"
      },
      "execution_count": 15,
      "outputs": [
        {
          "output_type": "stream",
          "name": "stdout",
          "text": [
            "Total Price: 100000\n"
          ]
        }
      ]
    },
    {
      "cell_type": "markdown",
      "source": [
        "16. Create a class Animal with an abstract method sound(). Create two derived classes Cow and Sheep that implement the sound() method."
      ],
      "metadata": {
        "id": "9iw56_pQwBdk"
      }
    },
    {
      "cell_type": "code",
      "source": [
        "from abc import ABC, abstractmethod\n",
        "\n",
        "class Animal(ABC):\n",
        "    @abstractmethod\n",
        "    def sound(self):\n",
        "        pass\n",
        "\n",
        "class Cow(Animal):\n",
        "    def sound(self):\n",
        "        return \"Moo\"\n",
        "\n",
        "class Sheep(Animal):\n",
        "    def sound(self):\n",
        "        return \"Baa\"\n",
        "\n",
        "# Test\n",
        "c = Cow()\n",
        "s = Sheep()\n",
        "print(\"Cow:\", c.sound())\n",
        "print(\"Sheep:\", s.sound())\n"
      ],
      "metadata": {
        "colab": {
          "base_uri": "https://localhost:8080/"
        },
        "id": "bEueLvvcwdxK",
        "outputId": "28daf525-03d0-45a9-a00e-90af3aa9674c"
      },
      "execution_count": 14,
      "outputs": [
        {
          "output_type": "stream",
          "name": "stdout",
          "text": [
            "Cow: Moo\n",
            "Sheep: Baa\n"
          ]
        }
      ]
    },
    {
      "cell_type": "markdown",
      "source": [
        "17. Create a class Book with attributes title, author, and year_published. Add a method get_book_info() that returns a formatted string with the book's details."
      ],
      "metadata": {
        "id": "KAi-yCVywKIO"
      }
    },
    {
      "cell_type": "code",
      "source": [
        "class Book:\n",
        "    def __init__(self, title, author, year_published):\n",
        "        self.title = title\n",
        "        self.author = author\n",
        "        self.year_published = year_published\n",
        "\n",
        "    def get_book_info(self):\n",
        "        return f\"{self.title} by {self.author}, published in {self.year_published}\"\n",
        "\n",
        "# Test\n",
        "b = Book(\"Python Basics\", \"John Doe\", 2022)\n",
        "print(b.get_book_info())\n"
      ],
      "metadata": {
        "colab": {
          "base_uri": "https://localhost:8080/"
        },
        "id": "lNG5EDxMwJcN",
        "outputId": "0896c8d1-5438-47be-bed1-e0d846efe09c"
      },
      "execution_count": 13,
      "outputs": [
        {
          "output_type": "stream",
          "name": "stdout",
          "text": [
            "Python Basics by John Doe, published in 2022\n"
          ]
        }
      ]
    },
    {
      "cell_type": "markdown",
      "source": [
        "18. Create a class House with attributes address and price. Create a derived class Mansion that adds an attribute number_of_rooms."
      ],
      "metadata": {
        "id": "ItkyDgTbwPXG"
      }
    },
    {
      "cell_type": "code",
      "source": [
        "class House:\n",
        "    def __init__(self, address, price):\n",
        "        self.address = address\n",
        "        self.price = price\n",
        "\n",
        "class Mansion(House):\n",
        "    def __init__(self, address, price, number_of_rooms):\n",
        "        super().__init__(address, price)\n",
        "        self.number_of_rooms = number_of_rooms\n",
        "\n",
        "# Test\n",
        "h = House(\"123 Street\", 500000)\n",
        "m = Mansion(\"456 Avenue\", 2000000, 15)\n",
        "\n",
        "print(f\"House: {h.address}, Price: {h.price}\")\n",
        "print(f\"Mansion: {m.address}, Price: {m.price}, Rooms: {m.number_of_rooms}\")\n"
      ],
      "metadata": {
        "colab": {
          "base_uri": "https://localhost:8080/"
        },
        "id": "rk871UHzwHDo",
        "outputId": "f4f5774f-dcd5-4fde-b86a-e507e47e4901"
      },
      "execution_count": 12,
      "outputs": [
        {
          "output_type": "stream",
          "name": "stdout",
          "text": [
            "House: 123 Street, Price: 500000\n",
            "Mansion: 456 Avenue, Price: 2000000, Rooms: 15\n"
          ]
        }
      ]
    }
  ]
}